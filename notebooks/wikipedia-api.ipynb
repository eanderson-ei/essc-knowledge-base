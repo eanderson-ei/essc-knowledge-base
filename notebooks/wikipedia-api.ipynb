{
 "cells": [
  {
   "cell_type": "code",
   "execution_count": 1,
   "metadata": {},
   "outputs": [],
   "source": [
    "import wikipedia\n",
    "import pandas as pd"
   ]
  },
  {
   "cell_type": "code",
   "execution_count": 2,
   "metadata": {},
   "outputs": [
    {
     "data": {
      "text/plain": [
       "'Reducing emissions from deforestation and forest degradation'"
      ]
     },
     "execution_count": 2,
     "metadata": {},
     "output_type": "execute_result"
    }
   ],
   "source": [
    "wikipedia.page(\"REDD\", auto_suggest=False).title"
   ]
  },
  {
   "cell_type": "code",
   "execution_count": 3,
   "metadata": {},
   "outputs": [],
   "source": [
    "df = pd.read_csv('../data/outputs/essc_tags.csv', skiprows=1, header=None)\n",
    "tags = df[0].to_list()"
   ]
  },
  {
   "cell_type": "code",
   "execution_count": 6,
   "metadata": {},
   "outputs": [
    {
     "name": "stdout",
     "output_type": "stream",
     "text": [
      "Disambiguation: 488, Unknown 1680\n"
     ]
    }
   ],
   "source": [
    "i = 0\n",
    "j = 0\n",
    "for tag in tags:\n",
    "    try:\n",
    "        result = wikipedia.page(tag, auto_suggest=False).title\n",
    "    except wikipedia.exceptions.DisambiguationError as e:\n",
    "        result = e.options\n",
    "        i+=1\n",
    "    except wikipedia.exceptions.PageError as e:\n",
    "        result = 'None'\n",
    "        j+=1\n",
    "    except:\n",
    "        pass\n",
    "    \n",
    "#     print(tag + \" | \" + str(result))\n",
    "print (f'Disambiguation: {i}, Unknown {j}')"
   ]
  },
  {
   "cell_type": "code",
   "execution_count": 56,
   "metadata": {},
   "outputs": [
    {
     "name": "stdout",
     "output_type": "stream",
     "text": [
      "['Mercury (planet)', 'Mercury (element)', 'Mercury (mythology)', 'Mercury (toy manufacturer)', 'Mercury Communications', 'Mercury Drug', 'Mercury Energy', 'Mercury Insurance Group', 'Mercury Interactive', 'Mercury Marine', 'Mercury Systems', 'Shuttle America', 'Mercury (programming language)', 'Mercury (metadata search system)', 'Ferranti Mercury', 'Mercury Browser', 'Mercury Mail Transport System', 'Mercury (film)', 'Mercury (TV series)', 'Young Adult', 'character in the RWBY web series', 'Mercury (Marvel Comics)', 'Makkari (comics)', 'Metal Men', \"Cerebro's X-Men\", 'Amalgam Comics character', 'Mercury (magazine)', 'The American Mercury', 'The Mercury (Hobart)', 'The Mercury (South Africa)', 'The Mercury (Pennsylvania)', 'Mercury (Newport)', 'List of newspapers named Mercury', 'Mercury (2005 novel)', 'Mercury (2016 novel)', 'Anna Kavan', 'Mercury Records', 'Mercury Prize', 'The Planets', 'Mercury (American Music Club album)', 'Mercury (Longview album)', 'Mercury (Madder Mortem album)', '\"Mercury\" (song)', 'Recovering the Satellites', 'Failer', 'Planetarium', 'Mercury, Savoie', 'Mercury Bay', 'place in Alabama', 'Mercury, Nevada', 'Mercury, Texas', 'Mercury (plant)', 'Annual mercury', 'Blitum bonus-henricus', 'Mercury FM', 'Heart Hertfordshire', 'Edmonton Mercurys', 'Fujita Soccer Club Mercury', 'Memphis Mercury', 'Phoenix Mercury', 'Toledo Mercurys', 'Blackburn Mercury', 'Boeing E-6 Mercury', 'Bristol Mercury', 'Miles Mercury', 'Mercury (automobile)', 'Mercury (cyclecar)', 'Mercury (train)', 'Cape Cod Mercury 15', 'HMS Mercury (1779)', 'HMS Mercury (1878)', 'HMS Mercury (shore establishment)', 'Mercury 18', 'Russian brig Mercury', 'USS Mercury (ID-3012)', 'USS Mercury (AK-42)', 'USNS Mercury (T-AGM-21)', \"Archer Maclean's Mercury\", 'Mercury (cipher machine)', 'Mercury (name)', 'Mercury (pigeon)', 'Mercury (satellite)', 'Mercury Boulevard', 'Mercury Cinema', 'Operation Mercury', 'Project Mercury', 'The Mercury Mall', 'All pages with titles beginning with Mercury ', 'Hg (disambiguation)', 'HMS Mercury', 'Mercur (disambiguation)', 'Mercure (disambiguation)', 'Mercuri', 'Mercurio (disambiguation)', 'Mercurius (disambiguation)', 'Mercury 1 (disambiguation)', 'Mercury 2 (disambiguation)', 'Mercury 3 (disambiguation)', 'Mercury 4 (disambiguation)', 'Mercury 5 (disambiguation)', 'Mercury 6 (disambiguation)', 'Mercury 7 (disambiguation)', 'Mercury 8 (disambiguation)', 'Mercury City (disambiguation)', 'Mercury FM (disambiguation)', 'Mercury House (disambiguation)', 'Mercury mission (disambiguation)', 'Mercury program (disambiguation)', 'Mercury project (disambiguation)', 'Merkur (disambiguation)', 'USS Mercury', 'All pages with titles containing Mercury']\n"
     ]
    }
   ],
   "source": [
    "try:\n",
    "    mercury = wikipedia.summary(\"Mercury\")\n",
    "except wikipedia.exceptions.DisambiguationError as e:\n",
    "    print (e.options)"
   ]
  },
  {
   "cell_type": "code",
   "execution_count": null,
   "metadata": {},
   "outputs": [],
   "source": []
  }
 ],
 "metadata": {
  "kernelspec": {
   "display_name": "Python 3",
   "language": "python",
   "name": "python3"
  },
  "language_info": {
   "codemirror_mode": {
    "name": "ipython",
    "version": 3
   },
   "file_extension": ".py",
   "mimetype": "text/x-python",
   "name": "python",
   "nbconvert_exporter": "python",
   "pygments_lexer": "ipython3",
   "version": "3.9.1"
  }
 },
 "nbformat": 4,
 "nbformat_minor": 4
}
